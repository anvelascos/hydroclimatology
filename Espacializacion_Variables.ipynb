{
 "cells": [
  {
   "cell_type": "markdown",
   "metadata": {},
   "source": [
    "# Espacialización de variables hidroclimatológicas\n",
    "\n",
    "Esta presentación está basada en el curso de Hidroclimatología que se encuentra en http://www.mathmodelling.org/hidroclimatologia."
   ]
  },
  {
   "cell_type": "markdown",
   "metadata": {},
   "source": [
    "## 1. Temperatura"
   ]
  },
  {
   "cell_type": "markdown",
   "metadata": {},
   "source": [
    "Es un término utilizado para expresar la intensidad relativa del calor. Esta se identifica con la energía cinética de la translación de moleculas y de acuerdo con la teoría cinética de gases tiene su cero absoluto cuando la movilidad de las moleculas ha cesado totalmente. Esta también representa una habilidad de la materia de transferir calor a otros cuerpos. El calor no se transferirá si los cuerpos se encuentran a la misma temperatura.\n",
    "\n",
    "Existen tres escalas de medición de la temperatura: *Fahrenheit, Centígrada (Celsius) y Kelvin.*\n",
    "\n",
    "La temperatura del aire se mide en grados de la escala Celsius (***°C***) y se reporta con décimas de grados. Esta escala internacional de temperatura emitida en 1948, fue definida por la lectura de un instrumento patrón, mediante el cual es posible obtener de manera uniforme y reproducible, interpolaciones entre el punto de fusión del hielo (0 °C) y el punto normal de ebullición del agua (100 °C). La escala de temperatura absoluta (***K***) se define asignando la temperatura de 273,16 °K al punto triple del agua pura, también llamada escala de temperatura Kelvin o escala absoluta."
   ]
  },
  {
   "cell_type": "markdown",
   "metadata": {},
   "source": [
    "### 1.1. Peril altitudinal de la temperatura en la atmósfera"
   ]
  },
  {
   "cell_type": "markdown",
   "metadata": {},
   "source": [
    "La atmósfera es una capa de aire (gaseosa) que rodea la superficie de la Tierra, variando su composición y su densidad en altura. Se divide en las siguientes capas en altura: troposfera, estratosfera, mesosfera, termosfera y exosfera (contacta con el espacio interplanetario). La atmósfera meteorológica está comprendida entre 0 y 30 km. La palabra procede del griego “atmos” que significa vapor y “staira” que significa esfera.\n",
    "\n",
    "<img src=\"https://1.bp.blogspot.com/-slX0gO3yE-8/WK4rJ8C0wfI/AAAAAAAAEdk/QcA51Xf1Yk4GlXmhKlZ6d_gGuh6MwXxWgCPcB/s1600/01_atmosfera.gif\">\n",
    "<center>Perfil altitudinal de la temperatura en la atmósfera.</center>\n",
    "<center>Tomado de: http://antonioboveda.blogspot.com.co/2010/12/terminos-del-clima-tema-2.html</center>\n",
    "\n",
    "\n",
    "Las capas de la atmósfera terrestre se listan a continuación:\n",
    "\n",
    "**Troposfera**: Capa de la atmósfera terrestre que está en contacto con la superficie de la Tierra y se extiende hasta una altitud de unos 10 km aproximadamente; en ella se desarrollan todos los procesos meteorológicos y climáticos.\n",
    "\n",
    "**Estratosfera**: Capa de la atmósfera terrestre que se extiende entre los 10 y los 50 km de altitud aproximadamente; en ella reina un perfecto equilibrio dinámico y una temperatura casi constante.\n",
    "\n",
    "**Mesosfera**: Capa de la atmósfera terrestre que se extiende entre los 50 y los 80 km de altitud aproximadamente; en ella las temperaturas oscilan entre los 0 y los -80 °C.\n",
    "\n",
    "**Termosfera**: Capa de la atmósfera terrestre que se extiende entre los 80 y los 500 km de altitud aproximadamente; en ella tienen lugar abundantes procesos de ionización en los cuales se originan grandes concentraciones de electrones libres.\n",
    "\n",
    "**Exosfera**: Capa más externa de la atmósfera terrestre, que se extiende desde los 500 km de altitud aproximadamente hasta alturas no determinadas; constituye la transición de los gases atmosféricos hacia el espacio exterior.\n",
    "\n",
    "\n",
    "En la troposfera, se presenta una relación casi lineal entre la temperatura y la altitud, de este modo se puede utilizar la siguiente expresión para determinar la temperatura en función de la elevación.\n",
    "\n",
    "$$\n",
    "T = \\alpha H + \\beta\n",
    "$$\n",
    "\n",
    "Donde:\n",
    "\n",
    "$T$: Temperatura (°C).\n",
    "\n",
    "$\\alpha$: Gradiente altitudinal de temperatura.\n",
    "\n",
    "$\\beta$: Constante altitudinal de temperatura.\n",
    "\n"
   ]
  },
  {
   "cell_type": "markdown",
   "metadata": {},
   "source": [
    "### 1.2. Isotermas\n",
    "La temperatura anual promedio en la superficie de la tierra se encuentra entre 14°C y 15°C, pero existen grandes variaciones según la latitud, altitud y época del año. *Las líneas isotermicas son lineas imaginarias que unen los puntos del espacio en los que se mantiene el mismo valor de temperatura*.\n",
    "\n",
    "<img src=\"https://1.bp.blogspot.com/-XMpql0WJqyg/WK4rKNaEdqI/AAAAAAAAEdk/aaz_1MW9Byghd-VtDN_MyJUOYrIXqOaTACPcB/s1600/02_isotermas.jpg\" style=\"max-width:100%; width: 40%\">\n",
    "<center>Ejemplo de un mapa de isotermas. Cortesía: John Chavarro.</center>\n",
    "\n",
    "\n",
    "La información para el trabajo en clase se puede descargar [aquí](https://www.dropbox.com/sh/k3pzq8drdqour1i/AADJEGzmAHH2-_jYeb0sA5pqa?dl=0).\n",
    "\n",
    "#### 1.2.1. Preparación de la información\n",
    "Con las series de temperatura que se encuentran dentro del área de trabajo (depende del grupo) se calculan los promedios mensuales de largo plazo para cada una de las series; esta actividad se puede realizar en hoja de cálculo (Excel) o lo podemos hacer directamente en Python.\n",
    "\n",
    "A continuación se presenta el código en Python para obtener los promedios mensuales multianuales de las temperaturas."
   ]
  },
  {
   "cell_type": "code",
   "execution_count": 1,
   "metadata": {
    "collapsed": true
   },
   "outputs": [],
   "source": [
    "# Importar librerias necesarias\n",
    "%matplotlib inline\n",
    "import pandas as pd"
   ]
  },
  {
   "cell_type": "code",
   "execution_count": 2,
   "metadata": {
    "collapsed": false
   },
   "outputs": [],
   "source": [
    "def dividir_variables():\n",
    "    \"\"\"\n",
    "    Esta funcion guarda un archivo para cada variable en el libro hc_data.xlsx.\n",
    "    \"\"\"\n",
    "    xls_data = pd.ExcelFile('data/hc_data.xlsx')\n",
    "    print(xls_data.sheet_names)\n",
    "    \n",
    "    for parametro in xls_data.sheet_names:\n",
    "        print(parametro)\n",
    "        nombre_salida = 'data/' + parametro + '_data.xlsx'\n",
    "        df_parametro = xls_data.parse(parametro, index_col='Fecha')\n",
    "        df_parametro.to_excel(nombre_salida, parametro)\n",
    "    "
   ]
  },
  {
   "cell_type": "code",
   "execution_count": 15,
   "metadata": {
    "collapsed": false
   },
   "outputs": [
    {
     "name": "stdout",
     "output_type": "stream",
     "text": [
      "Total series temperatura: (738, 777)\n",
      "Series temperatura Grupo 2: (738, 118)\n"
     ]
    }
   ],
   "source": [
    "# Leer archvivo de temperaturas y guardar datos en un dataframe de Pandas\n",
    "xls_ts = pd.ExcelFile('data/TS_1_data.xlsx')\n",
    "df_ts1 = xls_ts.parse('TS_1', index_col='Fecha')\n",
    "print(\"Total series temperatura: \" + str(df_ts1.shape))\n",
    "\n",
    "# Leer el catalogo con las series que estan en mi zona de trabajo\n",
    "xls_catalogo_g2 = pd.ExcelFile('data/Catalogo_G2.xlsx')\n",
    "df_estaciones_ts1 = xls_catalogo_g2.parse('TS_1', index_col='Estacion')\n",
    "\n",
    "# Las estaciones de interes estan en el indice del dataframe\n",
    "estaciones_g2 = df_estaciones_ts1.index\n",
    "df_ts1_g2 = df_ts1[estaciones_g2]\n",
    "print(\"Series temperatura Grupo 2: \" + str(df_ts1_g2.shape))"
   ]
  },
  {
   "cell_type": "code",
   "execution_count": 22,
   "metadata": {
    "collapsed": false
   },
   "outputs": [],
   "source": [
    "# Crear un dataframe donde vamos a guardar las medias mensuales multianuales\n",
    "col_prom_lp = range(1, 13)\n",
    "df_prom_lp = pd.DataFrame(index=estaciones_g2, columns=col_prom_lp)\n",
    "\n",
    "for month in idx_prom_lp:\n",
    "    df_prom_lp[month] = df_ts1_g2[df_ts1_g2.index.month == month].mean()\n",
    "\n",
    "df_prom_lp.to_excel('data/Promedios_lp_ts1.xlsx', sheet_name='TS_1')"
   ]
  },
  {
   "cell_type": "code",
   "execution_count": null,
   "metadata": {
    "collapsed": true
   },
   "outputs": [],
   "source": []
  }
 ],
 "metadata": {
  "anaconda-cloud": {},
  "kernelspec": {
   "display_name": "Python [conda root]",
   "language": "python",
   "name": "conda-root-py"
  },
  "language_info": {
   "codemirror_mode": {
    "name": "ipython",
    "version": 2
   },
   "file_extension": ".py",
   "mimetype": "text/x-python",
   "name": "python",
   "nbconvert_exporter": "python",
   "pygments_lexer": "ipython2",
   "version": "2.7.12"
  }
 },
 "nbformat": 4,
 "nbformat_minor": 1
}
